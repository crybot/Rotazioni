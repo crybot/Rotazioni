{
 "cells": [
  {
   "cell_type": "markdown",
   "id": "895dd943-dacc-4690-9e97-38149b30b449",
   "metadata": {},
   "source": [
    "# Split Scheduler"
   ]
  },
  {
   "cell_type": "code",
   "execution_count": null,
   "id": "3bb15b0f-4677-4b8e-994b-daef4f3dd207",
   "metadata": {},
   "outputs": [],
   "source": [
    "# Preferences:\n",
    "# LEGS trained alone - OK\n",
    "# LEGS trained after rest day - OK\n",
    "# REST between muscle groups 3-4 - OK \n",
    "# ROTATIONS per muscle group = N - OK \n",
    "# RECALLS per muscle group = M - TODO\n",
    "# REST days = K - OK\n",
    "# CONSECUTIVE number of workouts - OK\n",
    "# CONSECUTIVE number of rest days - OK\n",
    "# MINIMIZE muscle groups per session - OK\n"
   ]
  },
  {
   "cell_type": "markdown",
   "id": "fa73b53e-5d33-41da-8a25-78fa5713f255",
   "metadata": {},
   "source": [
    "## Muscle Group Data Structure"
   ]
  },
  {
   "cell_type": "code",
   "execution_count": 924,
   "id": "02a8fbbc-8ac4-4bd3-9313-69c18be79189",
   "metadata": {},
   "outputs": [],
   "source": [
    "class MuscleGroup:\n",
    "    def __init__(self, name, rest_min=4, rest_max=5, rotations=3, after_rest=False):\n",
    "        self.name = name\n",
    "        self.rest_min = rest_min\n",
    "        self.rest_max = rest_max\n",
    "        self.rotations = rotations\n",
    "        self.after_rest = after_rest\n",
    "        self.split_preference = set([])\n",
    "    \n",
    "    def set_split_preference(self, preference):\n",
    "        self.split_preference = set(preference)\n"
   ]
  },
  {
   "cell_type": "markdown",
   "id": "49ce2c07-05a5-464e-ae4b-53707fd0af01",
   "metadata": {},
   "source": [
    "## Global Preferences"
   ]
  },
  {
   "cell_type": "code",
   "execution_count": 925,
   "id": "28dd33d5-8956-4f06-ac3b-2a210868b2b6",
   "metadata": {},
   "outputs": [],
   "source": [
    "chest = MuscleGroup('CHEST', rest_min=3, rest_max=4, rotations=3, after_rest=False)\n",
    "back = MuscleGroup('BACK', rest_min=3, rest_max=10, rotations=3, after_rest=False)\n",
    "legs = MuscleGroup('LEGS', rest_min=4, rest_max=10, rotations=2, after_rest=True)\n",
    "arms = MuscleGroup('ARMS', rest_min=1, rest_max=10, rotations=3, after_rest=False)\n",
    "delts = MuscleGroup('DELTS', rest_min=1, rest_max=10, rotations=3, after_rest=False)\n",
    "\n",
    "chest.set_split_preference([arms, delts])\n",
    "back.set_split_preference([arms, delts])\n",
    "legs.set_split_preference([])\n",
    "arms.set_split_preference([chest, back, delts])\n",
    "delts.set_split_preference([chest, back, arms])\n",
    "\n",
    "groups = set([chest, back, legs, arms, delts])\n",
    "days = range(14) # days of the microcycle\n",
    "rest_days = 5 # number of rest days of the microcycle\n",
    "max_consecutive_work = 3 # number of max consecutive days of training\n",
    "max_consecutive_rest = 2 # number of max consecutive days of rest\n",
    "\n",
    "def weekday(day):\n",
    "    return {0: 'MONDAY', 1: 'TUESDAY', 2: 'WEDNESDAY', 3: 'THURSDAY', 4: 'FRIDAY', 5: 'SATURDAY', 6: 'SUNDAY'}[day % 7]\n",
    "\n",
    "def crange(start, end, modulo):\n",
    "    if start > end:\n",
    "        while start < modulo:\n",
    "            yield start\n",
    "            start += 1\n",
    "        start = 0\n",
    "\n",
    "    while start < end:\n",
    "        yield start\n",
    "        start += 1"
   ]
  },
  {
   "cell_type": "markdown",
   "id": "d0a9112c-d489-468d-a4d5-30aed4afc20e",
   "metadata": {},
   "source": [
    "# Linear Programming"
   ]
  },
  {
   "cell_type": "code",
   "execution_count": 926,
   "id": "54377536-97f9-4c29-8f45-4adfa2f954c4",
   "metadata": {},
   "outputs": [],
   "source": [
    "from pulp import LpMinimize, LpMaximize, LpProblem, LpStatus, lpSum, LpVariable\n",
    "\n",
    "\n",
    "# Model definition\n",
    "model = LpProblem(name='exercise-scheduling', sense=LpMinimize)\n",
    "\n",
    "# Initialize the decision variables\n",
    "X = {}\n",
    "Y = []\n",
    "\n",
    "# X_i_j := Muscle group i is trained on the j-th day, i \\in groups, j \\in [0,14)\n",
    "for group in groups:\n",
    "    for day in days:\n",
    "        X[group.name, day] = LpVariable(name='x_{}_{}'.format(group.name, day), cat='Binary')\n",
    "\n",
    "# Y_j := the j-th day is a rest day, j \\in [0, 14)\n",
    "for day in days:\n",
    "    Y.append(LpVariable(name='y_{}'.format(day), cat='Binary'))\n",
    "\n",
    "# Z := the maximum number of muscle groups trained in any given day\n",
    "# <=>\n",
    "# Z := max_j { sum_i (X_i_j) }\n",
    "Z = LpVariable(name='z', lowBound=0, upBound=len(groups), cat='Integer')\n"
   ]
  },
  {
   "cell_type": "markdown",
   "id": "3cbb3f62-6a6e-4c7f-aa88-4667b1537c8b",
   "metadata": {},
   "source": [
    "## Linear Constraints"
   ]
  },
  {
   "cell_type": "code",
   "execution_count": 927,
   "id": "441c8142-8285-408f-b2c0-e23a0727bc28",
   "metadata": {},
   "outputs": [],
   "source": [
    "\n",
    "# Each muscle group i must be hit exactly i.rotations times each microcycle \n",
    "for group in groups:\n",
    "    model += sum( [ X[group.name, day] for day in days ] ) == group.rotations\n",
    "    \n",
    "# In each microcycle there have to be exactly `rest_days` rest days\n",
    "model += sum(Y) == rest_days\n",
    "\n",
    "# Max consecutive days of training/resting constraints\n",
    "for day in days:\n",
    "    maxwork = crange(day, (day + max_consecutive_work + 1) % len(days), len(days))\n",
    "    maxrest = crange(day, (day + max_consecutive_rest + 1) % len(days), len(days))\n",
    "    model += sum( [ (1 - Y[d]) for d in maxwork ] ) <= max_consecutive_work\n",
    "    model += sum( [ Y[d] for d in maxrest ] ) <= max_consecutive_rest\n",
    "\n",
    "# For each day j, if Y_j is set to 1 (j is a rest day), there must be no workouts scheduled for that day\n",
    "# and if Y_j is set to 0, there has to be at least one muscle group scheduled for that day\n",
    "for day in days:\n",
    "    model += sum( [ X[group.name, day] for group in groups ] ) <= (1 - Y[day])*1000000\n",
    "    model += sum( [ X[group.name, day] for group in groups ] ) >= (1 - Y[day])\n",
    "\n",
    "# Threshold variable constraint (Z must represent the maximum number of muscle groups trained in any given day)\n",
    "for day in days:\n",
    "    model += sum( [ X[group.name, day] for group in groups ] ) <= Z\n",
    "    \n",
    "# Constraints determining the minimum and maximum number of days between two consecutive muscle group workouts\n",
    "for group in groups:\n",
    "    for day in days:\n",
    "        maxdays = crange(day, (day + group.rest_max + 1) % len(days), len(days))\n",
    "        mindays = crange(day, (day + group.rest_min + 1) % len(days), len(days))\n",
    "\n",
    "        model += sum( [ X[group.name, d] for d in maxdays ] ) >= 1\n",
    "        model += sum( [ X[group.name, d] for d in mindays ] ) <= 1\n",
    "        \n",
    "# Each muscle group i such that i.after_rest == True must always be trained after a rest day\n",
    "for group in groups:\n",
    "    for day in days:\n",
    "        model += X[group.name, day] * group.after_rest <= Y[(day - 1) % len(days)]\n",
    "        \n",
    "# Muscle groups combination preferences:\n",
    "# Each muscle group can only be trained with groups beloging to group.split_preference\n",
    "for group in groups:\n",
    "    # For every other group with which the first one CANNOT be trained\n",
    "    for other in groups - group.split_preference - set([group]):\n",
    "        for day in days:\n",
    "            model += X[group.name, day] + X[other.name, day] <= 1\n",
    "\n",
    "# Objective function\n",
    "model += Z # we want to minimize the number of muscles trained per session\n"
   ]
  },
  {
   "cell_type": "code",
   "execution_count": 928,
   "id": "1e23e736-84e9-4136-b4c6-dc874f977c8d",
   "metadata": {},
   "outputs": [],
   "source": [
    "# Model definition summary\n",
    "# model"
   ]
  },
  {
   "cell_type": "markdown",
   "id": "ad4cebfc-79ce-4373-8628-2be0c06170d5",
   "metadata": {},
   "source": [
    "## Model Output"
   ]
  },
  {
   "cell_type": "code",
   "execution_count": 929,
   "id": "fc8fa244-9824-4e08-9bc2-c00fe8e1fa63",
   "metadata": {},
   "outputs": [
    {
     "name": "stdout",
     "output_type": "stream",
     "text": [
      "Status code (1 = Optimum found): 1, Optimal\n",
      "Objective (max groups per session): 2.0\n",
      "SCHEDULE: \n",
      "MONDAY: ['DELTS', 'BACK']\n",
      "TUESDAY: ['CHEST']\n",
      "WEDNESDAY: []\n",
      "THURSDAY: ['ARMS']\n",
      "FRIDAY: []\n",
      "SATURDAY: ['DELTS', 'BACK']\n",
      "SUNDAY: ['ARMS', 'CHEST']\n",
      "MONDAY: []\n",
      "TUESDAY: ['LEGS']\n",
      "WEDNESDAY: ['ARMS', 'BACK']\n",
      "THURSDAY: ['DELTS', 'CHEST']\n",
      "FRIDAY: []\n",
      "SATURDAY: []\n",
      "SUNDAY: ['LEGS']\n"
     ]
    }
   ],
   "source": [
    "# Solve the problem\n",
    "status = model.solve() \n",
    "print('Status code (1 = Optimum found): {}, {}'.format(status, LpStatus[status]))\n",
    "\n",
    "print('Objective (max groups per session): {}'.format(model.objective.value()))\n",
    "\n",
    "# for var in model.variables():\n",
    "#    print(f\"{var.name}: {var.value()}\")\n",
    "    \n",
    "print('SCHEDULE: ')\n",
    "for day in days:\n",
    "    split = [ (X[group.name, day], group.name) for group in groups ]\n",
    "    split = list(filter(lambda g : g[0].value() == 1, split))\n",
    "    split = list(map(lambda g: g[1], split))\n",
    "    print('{}: {}'.format(weekday(day), split))\n"
   ]
  },
  {
   "cell_type": "code",
   "execution_count": null,
   "id": "84d9cd9c-7d42-4b95-91c4-6c89f6e03fa2",
   "metadata": {},
   "outputs": [],
   "source": []
  }
 ],
 "metadata": {
  "kernelspec": {
   "display_name": "Python 3",
   "language": "python",
   "name": "python3"
  },
  "language_info": {
   "codemirror_mode": {
    "name": "ipython",
    "version": 3
   },
   "file_extension": ".py",
   "mimetype": "text/x-python",
   "name": "python",
   "nbconvert_exporter": "python",
   "pygments_lexer": "ipython3",
   "version": "3.8.5"
  }
 },
 "nbformat": 4,
 "nbformat_minor": 5
}
